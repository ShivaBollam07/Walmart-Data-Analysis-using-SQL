{
 "cells": [
  {
   "cell_type": "markdown",
   "metadata": {},
   "source": [
    "<!DOCTYPE html>\n",
    "<html lang=\"en\">\n",
    "<head>\n",
    "    <meta charset=\"UTF-8\">\n",
    "    <meta name=\"viewport\" content=\"width=device-width, initial-scale=1.0\">\n",
    "    <title>Walmart Data Analysis </title>\n",
    "    <style>\n",
    "        body {\n",
    "            font-family: Arial, sans-serif;\n",
    "            color: #444;\n",
    "            background-color: #f7f7f7;\n",
    "            padding: 20px;\n",
    "        }\n",
    "        h1, h2 {\n",
    "            color: #cc6600;\n",
    "        }\n",
    "        h3 {\n",
    "            color: #0066cc;\n",
    "        }\n",
    "        ul {\n",
    "            list-style-type: none;\n",
    "            padding: 0;\n",
    "        }\n",
    "        li {\n",
    "            margin-bottom: 10px;\n",
    "        }\n",
    "        a {\n",
    "            color: #009933;\n",
    "            text-decoration: none;\n",
    "        }\n",
    "        a:hover {\n",
    "            text-decoration: underline;\n",
    "        }\n",
    "    </style>\n",
    "</head>\n",
    "<body>\n",
    "\n",
    "<center><h1>Walmart Data Analysis</h1></center>\n",
    "\n",
    "<h2>Project Overview:</h2>\n",
    "<ul>\n",
    "    <li>This project involves analyzing sales data from Walmart in order to gain insights into various aspects of their business operations, including product performance, customer trends, and market demand.</li>\n",
    "\n",
    "</ul>\n",
    "\n",
    "<h2>Dataset Details:</h2>\n",
    "<ul>\n",
    "    <li>Dataset Link: <a href=\"https://www.kaggle.com/c/walmart-recruiting-store-sales-forecasting\" target=\"_blank\">Walmart Recruiting - Store Sales Forecasting</a></li>\n",
    "</ul>\n",
    "\n",
    "<h2>Steps to Set Up and Run the Project:</h2>\n",
    "<ol>\n",
    "    <li><strong>Create a MySQL Database</strong>:\n",
    "        <ul>\n",
    "            <li>Open MySQL Workbench or any preferred MySQL client.</li>\n",
    "            <li>Execute the SQL command: <code>CREATE DATABASE IF NOT EXISTS walmart;</code>.</li>\n",
    "        </ul>\n",
    "    </li>\n",
    "    <li><strong>Update Connection Details</strong>:\n",
    "        <ul>\n",
    "            <li>Open <code>db_connection.py</code>.</li>\n",
    "            <li>Modify connection parameters with your MySQL server details.</li>\n",
    "        </ul>\n",
    "    </li>\n",
    "    <li><strong>Create Database Structure</strong>:\n",
    "        <ul>\n",
    "            <li>Run <code>send_data_to_mysql.py</code> to create the necessary table structure.</li>\n",
    "        </ul>\n",
    "    </li>\n",
    "    <li><strong>Verify Database Connection</strong>:\n",
    "        <ul>\n",
    "            <li>Run <code>access_data_from_mysql.py</code> to ensure the connection and data access are successful.</li>\n",
    "        </ul>\n",
    "    </li>\n",
    "    <li><strong>Ensure CSV File</strong>:\n",
    "        <ul>\n",
    "            <li>Make sure <code>WalmartSalesData.csv</code> is present in the specified location or update the file path accordingly.</li>\n",
    "        </ul>\n",
    "    </li>\n",
    "</ol>\n",
    "\n",
    "</body>\n",
    "</html>\n"
   ]
  },
  {
   "cell_type": "code",
   "execution_count": 1,
   "metadata": {},
   "outputs": [],
   "source": [
    "from db_connection import get_connection\n",
    "import matplotlib.pyplot as plt\n",
    "import seaborn as sns\n",
    "import pandas as pd\n",
    "import numpy as np\n",
    "\n"
   ]
  },
  {
   "cell_type": "code",
   "execution_count": 2,
   "metadata": {},
   "outputs": [],
   "source": [
    "conn = get_connection()\n",
    "cursor = conn.cursor()"
   ]
  },
  {
   "cell_type": "markdown",
   "metadata": {},
   "source": [
    " <center><h2>Generic</h2><centwe>"
   ]
  },
  {
   "cell_type": "markdown",
   "metadata": {},
   "source": [
    "Number of Rows and Columns for future use"
   ]
  },
  {
   "cell_type": "code",
   "execution_count": 3,
   "metadata": {},
   "outputs": [
    {
     "name": "stdout",
     "output_type": "stream",
     "text": [
      "Number of rows in the table: 1000\n",
      "Number of columns in the table: 17\n"
     ]
    }
   ],
   "source": [
    "sql_row_count_query = \"SELECT COUNT(*) FROM walmarttable\"\n",
    "cursor.execute(sql_row_count_query)\n",
    "num_rows = cursor.fetchone()[0] \n",
    "\n",
    "sql_col_count_query = \"SELECT COUNT(*) FROM information_schema.columns WHERE table_name = 'walmarttable'\"\n",
    "cursor.execute(sql_col_count_query)\n",
    "num_cols = cursor.fetchone()[0] \n",
    "\n",
    "print(\"Number of rows in the table:\", num_rows)\n",
    "print(\"Number of columns in the table:\", num_cols)"
   ]
  },
  {
   "cell_type": "markdown",
   "metadata": {},
   "source": [
    "1. How many unique cities does the data have?"
   ]
  },
  {
   "cell_type": "code",
   "execution_count": 4,
   "metadata": {},
   "outputs": [
    {
     "name": "stdout",
     "output_type": "stream",
     "text": [
      "Number of unique cities: 3\n"
     ]
    }
   ],
   "source": [
    "sql_query = \"SELECT COUNT(DISTINCT City) FROM walmartTable\"\n",
    "cursor.execute(sql_query)\n",
    "result = cursor.fetchone()\n",
    "print(\"Number of unique cities:\", result[0])"
   ]
  },
  {
   "cell_type": "markdown",
   "metadata": {},
   "source": [
    "2. What is the most common payment method?\n",
    "\n"
   ]
  },
  {
   "cell_type": "code",
   "execution_count": 5,
   "metadata": {},
   "outputs": [
    {
     "name": "stdout",
     "output_type": "stream",
     "text": [
      "Most common payment method:\n",
      "Ewallet: 345 transactions\n"
     ]
    },
    {
     "data": {
      "image/png": "[encoded data removed]",
      "text/plain": [
       "<Figure size 600x600 with 1 Axes>"
      ]
     },
     "metadata": {},
     "output_type": "display_data"
    }
   ],
   "source": [
    "sql_query = \"SELECT Payment, COUNT(*) AS Payment_Count FROM walmartTable GROUP BY Payment ORDER BY Payment_Count DESC LIMIT 1\"\n",
    "\n",
    "cursor.execute(sql_query)\n",
    "result = cursor.fetchall()\n",
    "\n",
    "print(\"Most common payment method:\")\n",
    "for row in result:\n",
    "    print(f\"{row[0]}: {row[1]} transactions\")\n",
    "\n",
    "cursor.execute(\"SELECT Payment, COUNT(*) AS Payment_Count FROM walmartTable GROUP BY Payment\")\n",
    "payments_data = cursor.fetchall()\n",
    "\n",
    "labels = [row[0] for row in payments_data]\n",
    "counts = [row[1] for row in payments_data]\n",
    "\n",
    "plt.figure(figsize=(6, 6))\n",
    "plt.pie(counts, labels=labels, autopct='%1.1f%%', startangle=140)\n",
    "plt.title('Distribution of Payment Methods')\n",
    "plt.axis('equal')\n",
    "plt.show()"
   ]
  },
  {
   "cell_type": "markdown",
   "metadata": {},
   "source": [
    "3. How many unique product lines does the data have? and what are they?"
   ]
  },
  {
   "cell_type": "code",
   "execution_count": 6,
   "metadata": {},
   "outputs": [
    {
     "name": "stdout",
     "output_type": "stream",
     "text": [
      "Number of unique product lines: 6\n",
      "They are: \n",
      "Health and beauty\n",
      "Electronic accessories\n",
      "Home and lifestyle\n",
      "Sports and travel\n",
      "Food and beverages\n",
      "Fashion accessories\n"
     ]
    }
   ],
   "source": [
    "sql_query = \"SELECT COUNT(DISTINCT Product_line) FROM walmarttable\"\n",
    "cursor.execute(sql_query)\n",
    "result = cursor.fetchone()\n",
    "print(\"Number of unique product lines:\", result[0])\n",
    "\n",
    "sql_query = \"SELECT DISTINCT Product_line FROM walmarttable\"\n",
    "cursor.execute(sql_query)\n",
    "result1 = cursor.fetchall()  \n",
    "\n",
    "print(\"They are: \")\n",
    "for row in result1:\n",
    "    print(row[0])  "
   ]
  },
  {
   "cell_type": "markdown",
   "metadata": {},
   "source": [
    "4. What is the average rating across all transactions?"
   ]
  },
  {
   "cell_type": "code",
   "execution_count": 7,
   "metadata": {},
   "outputs": [
    {
     "name": "stdout",
     "output_type": "stream",
     "text": [
      "Average rating across all transactions: 6.9727\n"
     ]
    }
   ],
   "source": [
    "sql_query = \"SELECT SUM(rating) from walmarttable\"\n",
    "cursor.execute(sql_query)\n",
    "result = cursor.fetchone()\n",
    "print(\"Average rating across all transactions:\", result[0]/num_rows)"
   ]
  },
  {
   "cell_type": "markdown",
   "metadata": {},
   "source": [
    "5. What is the total revenue across all transactions?"
   ]
  },
  {
   "cell_type": "code",
   "execution_count": 8,
   "metadata": {},
   "outputs": [
    {
     "name": "stdout",
     "output_type": "stream",
     "text": [
      "Total revenue all transactions: 322966.7490\n"
     ]
    }
   ],
   "source": [
    "sql_query = \"SELECT SUM(Total) from walmarttable\"\n",
    "cursor.execute(sql_query)\n",
    "result = cursor.fetchone()\n",
    "print(\"Total revenue all transactions:\", result[0])"
   ]
  }
 ],
 "metadata": {
  "kernelspec": {
   "display_name": "Python 3",
   "language": "python",
   "name": "python3"
  },
  "language_info": {
   "codemirror_mode": {
    "name": "ipython",
    "version": 3
   },
   "file_extension": ".py",
   "mimetype": "text/x-python",
   "name": "python",
   "nbconvert_exporter": "python",
   "pygments_lexer": "ipython3",
   "version": "3.11.8"
  }
 },
 "nbformat": 4,
 "nbformat_minor": 2
}
