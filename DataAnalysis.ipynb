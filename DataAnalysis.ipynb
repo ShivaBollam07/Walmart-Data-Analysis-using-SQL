{
 "cells": [
  {
   "cell_type": "markdown",
   "metadata": {},
   "source": [
    "<!DOCTYPE html>\n",
    "<html lang=\"en\">\n",
    "<head>\n",
    "    <meta charset=\"UTF-8\">\n",
    "    <meta name=\"viewport\" content=\"width=device-width, initial-scale=1.0\">\n",
    "    <title>Walmart Data Analysis </title>\n",
    "    <style>\n",
    "        body {\n",
    "            font-family: Arial, sans-serif;\n",
    "            color: #444;\n",
    "            background-color: #f7f7f7;\n",
    "            padding: 20px;\n",
    "        }\n",
    "        h1, h2 {\n",
    "            color: #cc6600;\n",
    "        }\n",
    "        h3 {\n",
    "            color: #0066cc;\n",
    "        }\n",
    "        ul {\n",
    "            list-style-type: none;\n",
    "            padding: 0;\n",
    "        }\n",
    "        li {\n",
    "            margin-bottom: 10px;\n",
    "        }\n",
    "        a {\n",
    "            color: #009933;\n",
    "            text-decoration: none;\n",
    "        }\n",
    "        a:hover {\n",
    "            text-decoration: underline;\n",
    "        }\n",
    "    </style>\n",
    "</head>\n",
    "<body>\n",
    "\n",
    "<center><h1>Walmart Data Analysis</h1></center>\n",
    "\n",
    "<h2>Project Overview:</h2>\n",
    "<ul>\n",
    "    <li>This project involves analyzing sales data from Walmart in order to gain insights into various aspects of their business operations, including product performance, customer trends, and market demand.</li>\n",
    "\n",
    "</ul>\n",
    "\n",
    "<h2>Dataset Details:</h2>\n",
    "<ul>\n",
    "    <li>Dataset Link: <a href=\"https://www.kaggle.com/c/walmart-recruiting-store-sales-forecasting\" target=\"_blank\">Walmart Recruiting - Store Sales Forecasting</a></li>\n",
    "</ul>\n",
    "\n",
    "<h2>Steps to Set Up and Run the Project:</h2>\n",
    "<ol>\n",
    "    <li><strong>Create a MySQL Database</strong>:\n",
    "        <ul>\n",
    "            <li>Open MySQL Workbench or any preferred MySQL client.</li>\n",
    "            <li>Execute the SQL command: <code>CREATE DATABASE IF NOT EXISTS walmart;</code>.</li>\n",
    "        </ul>\n",
    "    </li>\n",
    "    <li><strong>Update Connection Details</strong>:\n",
    "        <ul>\n",
    "            <li>Open <code>db_connection.py</code>.</li>\n",
    "            <li>Modify connection parameters with your MySQL server details.</li>\n",
    "        </ul>\n",
    "    </li>\n",
    "    <li><strong>Create Database Structure</strong>:\n",
    "        <ul>\n",
    "            <li>Run <code>send_data_to_mysql.py</code> to create the necessary table structure.</li>\n",
    "        </ul>\n",
    "    </li>\n",
    "    <li><strong>Verify Database Connection</strong>:\n",
    "        <ul>\n",
    "            <li>Run <code>access_data_from_mysql.py</code> to ensure the connection and data access are successful.</li>\n",
    "        </ul>\n",
    "    </li>\n",
    "    <li><strong>Ensure CSV File</strong>:\n",
    "        <ul>\n",
    "            <li>Make sure <code>WalmartSalesData.csv</code> is present in the specified location or update the file path accordingly.</li>\n",
    "        </ul>\n",
    "    </li>\n",
    "</ol>\n",
    "\n",
    "</body>\n",
    "</html>\n"
   ]
  },
  {
   "cell_type": "code",
   "execution_count": 290,
   "metadata": {},
   "outputs": [],
   "source": [
    "from db_connection import get_connection\n",
    "import matplotlib.pyplot as plt\n",
    "import seaborn as sns\n",
    "import pandas as pd\n",
    "from pandasql import sqldf\n",
    "import numpy as np\n",
    "import os\n",
    "import warnings\n",
    "warnings.filterwarnings('ignore')\n",
    "from tabulate import tabulate\n"
   ]
  },
  {
   "cell_type": "code",
   "execution_count": 291,
   "metadata": {},
   "outputs": [],
   "source": [
    "conn = get_connection()\n",
    "cursor = conn.cursor()"
   ]
  },
  {
   "cell_type": "markdown",
   "metadata": {},
   "source": [
    " <center><h2>Generic</h2><centwe>"
   ]
  },
  {
   "cell_type": "markdown",
   "metadata": {},
   "source": [
    "Number of Rows and Columns for future use"
   ]
  },
  {
   "cell_type": "code",
   "execution_count": 292,
   "metadata": {},
   "outputs": [
    {
     "name": "stdout",
     "output_type": "stream",
     "text": [
      "Number of rows in the table: 1000\n",
      "Number of columns in the table: 17\n"
     ]
    }
   ],
   "source": [
    "sql_row_count_query = \"SELECT COUNT(*) FROM walmarttable\"\n",
    "cursor.execute(sql_row_count_query)\n",
    "num_rows = cursor.fetchone()[0] \n",
    "\n",
    "sql_col_count_query = \"SELECT COUNT(*) FROM information_schema.columns WHERE table_name = 'walmarttable'\"\n",
    "cursor.execute(sql_col_count_query)\n",
    "num_cols = cursor.fetchone()[0] \n",
    "\n",
    "print(\"Number of rows in the table:\", num_rows)\n",
    "print(\"Number of columns in the table:\", num_cols)"
   ]
  },
  {
   "cell_type": "markdown",
   "metadata": {},
   "source": [
    "### Basic"
   ]
  },
  {
   "cell_type": "markdown",
   "metadata": {},
   "source": [
    "1. How many unique cities does the data have?"
   ]
  },
  {
   "cell_type": "code",
   "execution_count": 293,
   "metadata": {},
   "outputs": [
    {
     "name": "stdout",
     "output_type": "stream",
     "text": [
      "Number of unique cities: 3\n"
     ]
    }
   ],
   "source": [
    "sql_query = \"SELECT COUNT(DISTINCT City) FROM walmartTable\"\n",
    "cursor.execute(sql_query)\n",
    "result = cursor.fetchone()\n",
    "print(\"Number of unique cities:\", result[0])"
   ]
  },
  {
   "cell_type": "markdown",
   "metadata": {},
   "source": [
    "2. What is the most common payment method?\n",
    "\n"
   ]
  },
  {
   "cell_type": "code",
   "execution_count": 294,
   "metadata": {},
   "outputs": [
    {
     "name": "stdout",
     "output_type": "stream",
     "text": [
      "Most common payment method:\n",
      "Ewallet: 345 transactions\n"
     ]
    },
    {
     "data": {
      "image/png": "[encoded data removed]",
      "text/plain": [
       "<Figure size 600x600 with 1 Axes>"
      ]
     },
     "metadata": {},
     "output_type": "display_data"
    }
   ],
   "source": [
    "sql_query = \"SELECT Payment, COUNT(*) AS Payment_Count FROM walmartTable GROUP BY Payment ORDER BY Payment_Count DESC LIMIT 1\"\n",
    "\n",
    "cursor.execute(sql_query)\n",
    "result = cursor.fetchall()\n",
    "\n",
    "print(\"Most common payment method:\")\n",
    "for row in result:\n",
    "    print(f\"{row[0]}: {row[1]} transactions\")\n",
    "\n",
    "cursor.execute(\"SELECT Payment, COUNT(*) AS Payment_Count FROM walmartTable GROUP BY Payment\")\n",
    "payments_data = cursor.fetchall()\n",
    "\n",
    "labels = [row[0] for row in payments_data]\n",
    "counts = [row[1] for row in payments_data]\n",
    "\n",
    "plt.figure(figsize=(6, 6))\n",
    "plt.pie(counts, labels=labels, autopct='%1.1f%%', startangle=140)\n",
    "plt.title('Distribution of Payment Methods')\n",
    "plt.axis('equal')\n",
    "plt.show()"
   ]
  },
  {
   "cell_type": "markdown",
   "metadata": {},
   "source": [
    "3. How many unique product lines does the data have? and what are they?"
   ]
  },
  {
   "cell_type": "code",
   "execution_count": 295,
   "metadata": {},
   "outputs": [
    {
     "name": "stdout",
     "output_type": "stream",
     "text": [
      "Number of unique product lines: 6\n",
      "They are: \n",
      "Health and beauty\n",
      "Electronic accessories\n",
      "Home and lifestyle\n",
      "Sports and travel\n",
      "Food and beverages\n",
      "Fashion accessories\n"
     ]
    }
   ],
   "source": [
    "sql_query = \"SELECT COUNT(DISTINCT Product_line) FROM walmarttable\"\n",
    "cursor.execute(sql_query)\n",
    "result = cursor.fetchone()\n",
    "print(\"Number of unique product lines:\", result[0])\n",
    "\n",
    "sql_query = \"SELECT DISTINCT Product_line FROM walmarttable\"\n",
    "cursor.execute(sql_query)\n",
    "result1 = cursor.fetchall()  \n",
    "\n",
    "print(\"They are: \")\n",
    "for row in result1:\n",
    "    print(row[0])  "
   ]
  },
  {
   "cell_type": "markdown",
   "metadata": {},
   "source": [
    "4. What is the average rating across all transactions?"
   ]
  },
  {
   "cell_type": "code",
   "execution_count": 296,
   "metadata": {},
   "outputs": [
    {
     "name": "stdout",
     "output_type": "stream",
     "text": [
      "Average rating across all transactions: 6.9727\n"
     ]
    }
   ],
   "source": [
    "sql_query = \"SELECT SUM(rating) from walmarttable\"\n",
    "cursor.execute(sql_query)\n",
    "result = cursor.fetchone()\n",
    "print(\"Average rating across all transactions:\", result[0]/num_rows)"
   ]
  },
  {
   "cell_type": "markdown",
   "metadata": {},
   "source": [
    "5. What is the total revenue across all transactions?"
   ]
  },
  {
   "cell_type": "code",
   "execution_count": 297,
   "metadata": {},
   "outputs": [
    {
     "name": "stdout",
     "output_type": "stream",
     "text": [
      "Total revenue all transactions: 322966.7490\n"
     ]
    }
   ],
   "source": [
    "sql_query = \"SELECT SUM(Total) from walmarttable\"\n",
    "cursor.execute(sql_query)\n",
    "result = cursor.fetchone()\n",
    "print(\"Total revenue all transactions:\", result[0])"
   ]
  },
  {
   "cell_type": "markdown",
   "metadata": {},
   "source": [
    "6. How many unique customer types does the data have?"
   ]
  },
  {
   "cell_type": "code",
   "execution_count": 298,
   "metadata": {},
   "outputs": [
    {
     "name": "stdout",
     "output_type": "stream",
     "text": [
      "Number of Unique customers: 2\n"
     ]
    }
   ],
   "source": [
    "sql_query = \"SELECT COUNT(DISTINCT customer_type) from walmarttable\"\n",
    "cursor.execute(sql_query)\n",
    "result = cursor.fetchone()\n",
    "print(\"Number of Unique customers:\", result[0])"
   ]
  },
  {
   "cell_type": "markdown",
   "metadata": {},
   "source": [
    "7. What is the most common customer type?"
   ]
  },
  {
   "cell_type": "code",
   "execution_count": 299,
   "metadata": {},
   "outputs": [
    {
     "name": "stdout",
     "output_type": "stream",
     "text": [
      "Most common customer type:\n",
      "Member: 501 transactions\n"
     ]
    }
   ],
   "source": [
    "sql_query = \"SELECT customer_type, COUNT(*) AS customer_type_count FROM walmartTable GROUP BY customer_type ORDER BY customer_type_count DESC LIMIT 1\"\n",
    "cursor.execute(sql_query)\n",
    "result = cursor.fetchall()\n",
    "print(\"Most common customer type:\")\n",
    "for row in result:\n",
    "    print(f\"{row[0]}: {row[1]} transactions\")\n"
   ]
  },
  {
   "cell_type": "markdown",
   "metadata": {},
   "source": [
    "8. What is the most common product line?\n",
    "\n"
   ]
  },
  {
   "cell_type": "code",
   "execution_count": 300,
   "metadata": {},
   "outputs": [
    {
     "data": {
      "image/png": "[encoded data removed]",
      "text/plain": [
       "<Figure size 500x500 with 1 Axes>"
      ]
     },
     "metadata": {},
     "output_type": "display_data"
    },
    {
     "name": "stdout",
     "output_type": "stream",
     "text": [
      "Most common product line:\n",
      "Fashion accessories: 178 transactions\n"
     ]
    }
   ],
   "source": [
    "sql_query = \"SELECT product_line, COUNT(*) AS product_line_count FROM walmarttable GROUP BY product_line ORDER BY product_line_count DESC LIMIT 1\"\n",
    "cursor.execute(sql_query)\n",
    "result1 = cursor.fetchall()\n",
    "\n",
    "sql_query = \"SELECT product_line, COUNT(*) AS product_line_count FROM walmarttable GROUP BY product_line ORDER BY product_line_count DESC\"\n",
    "cursor.execute(sql_query)\n",
    "result = cursor.fetchall()\n",
    "df = pd.DataFrame(result, columns=['Product Line', 'Count'])\n",
    "df = df.sort_values('Count', ascending=False)\n",
    "sns.set(style=\"whitegrid\")\n",
    "plt.figure(figsize=(5, 5))\n",
    "ax = sns.barplot(x='Product Line', y='Count', data=df)\n",
    "ax.set_xticklabels(ax.get_xticklabels(), rotation=60)\n",
    "plt.title('Number of Transactions by Product Line')\n",
    "plt.show()\n",
    "\n",
    "\n",
    "print(\"Most common product line:\")\n",
    "for row in result1:\n",
    "    print(f\"{row[0]}: {row[1]} transactions\")"
   ]
  },
  {
   "cell_type": "markdown",
   "metadata": {},
   "source": [
    "9. What is the distribution of payment methods across different regions?\n",
    "\n"
   ]
  },
  {
   "cell_type": "code",
   "execution_count": 301,
   "metadata": {},
   "outputs": [
    {
     "name": "stdout",
     "output_type": "stream",
     "text": [
      "city: Yangon\n",
      "{'Ewallet': 37.05882352941177, 'Credit card': 30.58823529411765, 'Cash': 32.35294117647059}\n",
      "\n",
      "city: Naypyitaw\n",
      "{'Cash': 37.80487804878049, 'Ewallet': 32.31707317073171, 'Credit card': 29.878048780487802}\n",
      "\n",
      "city: Mandalay\n",
      "{'Credit card': 32.831325301204814, 'Ewallet': 34.036144578313255, 'Cash': 33.13253012048193}\n",
      "\n"
     ]
    }
   ],
   "source": [
    "sql_query_citys = \"SELECT DISTINCT city FROM walmarttable\"\n",
    "cursor.execute(sql_query_citys)\n",
    "citys = cursor.fetchall()\n",
    "\n",
    "for city in citys:\n",
    "    city_name = city[0]\n",
    "    print(f\"city: {city_name}\")\n",
    "    \n",
    "    sql_query_payment_count = f\"\"\"\n",
    "        SELECT payment, COUNT(*) AS count\n",
    "        FROM walmarttable\n",
    "        WHERE city = '{city_name}'\n",
    "        GROUP BY payment\n",
    "    \"\"\"\n",
    "    cursor.execute(sql_query_payment_count)\n",
    "    payment_counts = cursor.fetchall()\n",
    "    \n",
    "    total_transactions_query = f\"\"\"\n",
    "        SELECT COUNT(*) AS total_transactions\n",
    "        FROM walmarttable\n",
    "        WHERE city = '{city_name}'\n",
    "    \"\"\"\n",
    "    cursor.execute(total_transactions_query)\n",
    "    total_transactions = cursor.fetchone()[0]\n",
    "\n",
    "    dict = {}\n",
    "    \n",
    "    for payment_count in payment_counts:\n",
    "        payment_method = payment_count[0]\n",
    "        count = payment_count[1]\n",
    "        percentage = (count / total_transactions) * 100\n",
    "        dict[payment_method] = percentage\n",
    "\n",
    "    print(dict)\n",
    "   \n",
    "    print()"
   ]
  },
  {
   "cell_type": "markdown",
   "metadata": {},
   "source": [
    "10. What is the spatial distribution of ratings across different cities?"
   ]
  },
  {
   "cell_type": "code",
   "execution_count": 302,
   "metadata": {},
   "outputs": [
    {
     "name": "stdout",
     "output_type": "stream",
     "text": [
      "City: Yangon\n",
      "Average Rating: 7.02706\n",
      "\n",
      "City: Naypyitaw\n",
      "Average Rating: 7.07287\n",
      "\n",
      "City: Mandalay\n",
      "Average Rating: 6.81807\n",
      "\n"
     ]
    }
   ],
   "source": [
    "sql_query_cities = \"SELECT DISTINCT city FROM walmarttable\"\n",
    "cursor.execute(sql_query_cities)\n",
    "cities = cursor.fetchall()\n",
    "\n",
    "for city in cities:\n",
    "    city_name = city[0]\n",
    "    print(f\"City: {city_name}\")\n",
    "    \n",
    "    avg_rating_query = f\"\"\"\n",
    "        SELECT AVG(rating) AS avg_rating\n",
    "        FROM walmarttable\n",
    "        WHERE city = '{city_name}'\n",
    "    \"\"\"\n",
    "    cursor.execute(avg_rating_query)\n",
    "    avg_rating_result = cursor.fetchone()\n",
    "    avg_rating = avg_rating_result[0] if avg_rating_result[0] is not None else \"N/A\"\n",
    "    \n",
    "    print(f\"Average Rating: {avg_rating}\\n\")"
   ]
  },
  {
   "cell_type": "markdown",
   "metadata": {},
   "source": [
    "### Medium:\n",
    "\n"
   ]
  },
  {
   "cell_type": "markdown",
   "metadata": {},
   "source": [
    "1. What month had the largest COGS?"
   ]
  },
  {
   "cell_type": "code",
   "execution_count": 303,
   "metadata": {},
   "outputs": [
    {
     "name": "stdout",
     "output_type": "stream",
     "text": [
      "The month with the largest COGS is 1, with a total COGS of 110754.16.\n"
     ]
    }
   ],
   "source": [
    "sql_query = \"\"\"\n",
    "    SELECT EXTRACT(MONTH from date) as date,sum(cogs) as total_cogs \n",
    "    from walmarttable\n",
    "    GROUP BY EXTRACT(MONTH from date)\n",
    "    ORDER BY total_cogs DESC\n",
    "    LIMIT 1\n",
    "\"\"\"\n",
    "\n",
    "cursor.execute(sql_query)\n",
    "\n",
    "result = cursor.fetchone()\n",
    "\n",
    "if result:\n",
    "    month = result[0]\n",
    "    total_cogs = result[1]\n",
    "    print(f\"The month with the largest COGS is {int(month)}, with a total COGS of {total_cogs}.\")\n",
    "else:\n",
    "    print(\"No data found.\")"
   ]
  },
  {
   "cell_type": "markdown",
   "metadata": {},
   "source": [
    "2. Which branch sold more products than the average product sold?\n",
    "\n"
   ]
  },
  {
   "cell_type": "code",
   "execution_count": 304,
   "metadata": {},
   "outputs": [
    {
     "data": {
      "image/png": "[encoded data removed]",
      "text/plain": [
       "<Figure size 500x500 with 1 Axes>"
      ]
     },
     "metadata": {},
     "output_type": "display_data"
    },
    {
     "name": "stdout",
     "output_type": "stream",
     "text": [
      "Branch A sold more than the average quantity of 1836.666666666666666666666667 with a total of 1859\n"
     ]
    }
   ],
   "source": [
    "sql_query = \"SELECT COUNT(DISTINCT Branch) from walmarttable\"\n",
    "cursor.execute(sql_query)\n",
    "result = cursor.fetchone()\n",
    "unique_branches = result[0]\n",
    "\n",
    "sql_query = \"SELECT SUM(Quantity) from walmarttable\"\n",
    "cursor.execute(sql_query)\n",
    "result = cursor.fetchone()\n",
    "total_quantity = result[0]\n",
    "\n",
    "Average_quantity = total_quantity/unique_branches\n",
    "\n",
    "sql_query = \"SELECT DISTINCT BRANCH as branch, sum(quantity) as sum_quantity from walmarttable GROUP BY BRANCH ORDER BY sum_quantity\"\n",
    "cursor.execute(sql_query)\n",
    "result = cursor.fetchall()\n",
    "df = pd.DataFrame(result, columns=['Branch', 'Quantity'])\n",
    "df = df.sort_values('Quantity', ascending=False)\n",
    "sns.set(style=\"whitegrid\")\n",
    "plt.figure(figsize=(5, 5))\n",
    "ax = sns.barplot(x='Branch', y='Quantity', data=df)\n",
    "ax.set_xticklabels(ax.get_xticklabels(), rotation=0)\n",
    "plt.title('Quantity sold by Branch')\n",
    "plt.show()\n",
    "\n",
    "for row in result:\n",
    "    if row[1] > Average_quantity:\n",
    "        print(f\"Branch {row[0]} sold more than the average quantity of {Average_quantity} with a total of {row[1]}\")\n"
   ]
  },
  {
   "cell_type": "markdown",
   "metadata": {},
   "source": [
    "3. What is the average total amount spent by each gender?"
   ]
  },
  {
   "cell_type": "code",
   "execution_count": 305,
   "metadata": {},
   "outputs": [
    {
     "data": {
      "image/png": "[encoded data removed]",
      "text/plain": [
       "<Figure size 500x500 with 1 Axes>"
      ]
     },
     "metadata": {},
     "output_type": "display_data"
    }
   ],
   "source": [
    "sql_query = \"SELECT Gender, SUM(Total) AS total_spent, COUNT(*) AS num_transactions FROM walmarttable GROUP BY Gender\"\n",
    "cursor.execute(sql_query)\n",
    "results = cursor.fetchall()\n",
    "\n",
    "average_spent = [row[1] / row[2] for row in results]\n",
    "\n",
    "labels = [f\"{row[0]} (Avg: {avg:.2f})\" for row, avg in zip(results, average_spent)]\n",
    "\n",
    "plt.figure(figsize=(5,5))\n",
    "plt.pie(average_spent, labels=labels, startangle=140)\n",
    "plt.title('Average total amount spent per transaction by Gender')\n",
    "plt.axis('equal')\n",
    "plt.show()"
   ]
  },
  {
   "cell_type": "markdown",
   "metadata": {},
   "source": [
    "Instead of Traversing or doing my queries on MySQL Database Everytime i want to create a DataFrame and use pandassql to do queries on the DataFrame - Type of SQL Literals\n"
   ]
  },
  {
   "cell_type": "markdown",
   "metadata": {},
   "source": [
    "Creating DataFrame walmarttable"
   ]
  },
  {
   "cell_type": "code",
   "execution_count": 306,
   "metadata": {},
   "outputs": [],
   "source": [
    "table_name = 'walmarttable'\n",
    "query = f\"SELECT * FROM {table_name}\"\n",
    "df = pd.read_sql(query, conn)\n",
    "pysqldf = lambda q: sqldf(q, globals())"
   ]
  },
  {
   "cell_type": "markdown",
   "metadata": {},
   "source": [
    "Adding sql query functionality to DataFrame"
   ]
  },
  {
   "cell_type": "code",
   "execution_count": 307,
   "metadata": {},
   "outputs": [],
   "source": [
    "pysqldf = lambda q: sqldf(q, globals())"
   ]
  },
  {
   "cell_type": "code",
   "execution_count": 308,
   "metadata": {},
   "outputs": [
    {
     "name": "stdout",
     "output_type": "stream",
     "text": [
      "      Invoice_ID Branch       City Customer_type  Gender  \\\n",
      "0    750-67-8428      A     Yangon        Member  Female   \n",
      "1    226-31-3081      C  Naypyitaw        Normal  Female   \n",
      "2    631-41-3108      A     Yangon        Normal    Male   \n",
      "3    123-19-1176      A     Yangon        Member    Male   \n",
      "4    373-73-7910      A     Yangon        Normal    Male   \n",
      "..           ...    ...        ...           ...     ...   \n",
      "995  233-67-5758      C  Naypyitaw        Normal    Male   \n",
      "996  303-96-2227      B   Mandalay        Normal  Female   \n",
      "997  727-02-1313      A     Yangon        Member    Male   \n",
      "998  347-56-2442      A     Yangon        Normal    Male   \n",
      "999  849-09-3807      A     Yangon        Member  Female   \n",
      "\n",
      "               Product_line  Unit_price  Quantity    Tax_5      Total  \\\n",
      "0         Health and beauty       74.69         7  26.1415   548.9715   \n",
      "1    Electronic accessories       15.28         5   3.8200    80.2200   \n",
      "2        Home and lifestyle       46.33         7  16.2155   340.5255   \n",
      "3         Health and beauty       58.22         8  23.2880   489.0480   \n",
      "4         Sports and travel       86.31         7  30.2085   634.3785   \n",
      "..                      ...         ...       ...      ...        ...   \n",
      "995       Health and beauty       40.35         1   2.0175    42.3675   \n",
      "996      Home and lifestyle       97.38        10  48.6900  1022.4900   \n",
      "997      Food and beverages       31.84         1   1.5920    33.4320   \n",
      "998      Home and lifestyle       65.82         1   3.2910    69.1110   \n",
      "999     Fashion accessories       88.34         7  30.9190   649.2990   \n",
      "\n",
      "           Date            Time      Payment    cogs  gross_margin_percentage  \\\n",
      "0    2019-01-05 0 days 13:08:00      Ewallet  522.83                   4.7619   \n",
      "1    2019-03-08 0 days 10:29:00         Cash   76.40                   4.7619   \n",
      "2    2019-03-03 0 days 13:23:00  Credit card  324.31                   4.7619   \n",
      "3    2019-01-27 0 days 20:33:00      Ewallet  465.76                   4.7619   \n",
      "4    2019-02-08 0 days 10:37:00      Ewallet  604.17                   4.7619   \n",
      "..          ...             ...          ...     ...                      ...   \n",
      "995  2019-01-29 0 days 13:46:00      Ewallet   40.35                   4.7619   \n",
      "996  2019-03-02 0 days 17:16:00      Ewallet  973.80                   4.7619   \n",
      "997  2019-02-09 0 days 13:22:00         Cash   31.84                   4.7619   \n",
      "998  2019-02-22 0 days 15:33:00         Cash   65.82                   4.7619   \n",
      "999  2019-02-18 0 days 13:28:00         Cash  618.38                   4.7619   \n",
      "\n",
      "     gross_income  Rating  \n",
      "0         26.1415     9.1  \n",
      "1          3.8200     9.6  \n",
      "2         16.2155     7.4  \n",
      "3         23.2880     8.4  \n",
      "4         30.2085     5.3  \n",
      "..            ...     ...  \n",
      "995        2.0175     6.2  \n",
      "996       48.6900     4.4  \n",
      "997        1.5920     7.7  \n",
      "998        3.2910     4.1  \n",
      "999       30.9190     6.6  \n",
      "\n",
      "[1000 rows x 17 columns]\n"
     ]
    }
   ],
   "source": [
    "print(df)"
   ]
  },
  {
   "cell_type": "markdown",
   "metadata": {},
   "source": [
    "4. What is the most common payment method by each product line?"
   ]
  },
  {
   "cell_type": "code",
   "execution_count": 309,
   "metadata": {},
   "outputs": [
    {
     "name": "stdout",
     "output_type": "stream",
     "text": [
      "             product_line MostCommonpayment\n",
      "0  Electronic accessories           Ewallet\n",
      "1     Fashion accessories           Ewallet\n",
      "2      Food and beverages           Ewallet\n",
      "3       Health and beauty           Ewallet\n",
      "4      Home and lifestyle           Ewallet\n",
      "5       Sports and travel           Ewallet\n"
     ]
    }
   ],
   "source": [
    "result_df = pysqldf(\"\"\"\n",
    "                    SELECT product_line, MAX(payment) AS MostCommonpayment\n",
    "                    FROM (\n",
    "                        SELECT product_line, payment, COUNT(*) AS PaymentCount\n",
    "                        FROM df\n",
    "                        GROUP BY product_line, payment\n",
    "                        )\n",
    "                    GROUP BY product_line\n",
    "                    \"\"\")\n",
    "\n",
    "print(result_df)"
   ]
  },
  {
   "cell_type": "markdown",
   "metadata": {},
   "source": [
    "5. What is the distribution of customer types in each branch?"
   ]
  },
  {
   "cell_type": "code",
   "execution_count": 310,
   "metadata": {},
   "outputs": [
    {
     "name": "stdout",
     "output_type": "stream",
     "text": [
      "  branch Customer_type  count\n",
      "0      A        Member    167\n",
      "1      A        Normal    173\n",
      "2      B        Member    165\n",
      "3      B        Normal    167\n",
      "4      C        Normal    159\n",
      "5      C        Member    169\n"
     ]
    }
   ],
   "source": [
    "query = pysqldf(\n",
    "    \"\"\"\n",
    "    SELECT BRANCH as branch, customer_type, COUNT(*) as count \n",
    "    FROM df \n",
    "    GROUP BY BRANCH, customer_type \n",
    "    ORDER BY branch, count\n",
    "    \"\"\"\n",
    ")\n",
    "\n",
    "print(query)\n"
   ]
  },
  {
   "cell_type": "markdown",
   "metadata": {},
   "source": [
    "6. What is the average total amount spent by each time of the day?\n",
    "\n"
   ]
  },
  {
   "cell_type": "code",
   "execution_count": 311,
   "metadata": {},
   "outputs": [
    {
     "name": "stdout",
     "output_type": "stream",
     "text": [
      "+-----+----------+------------------------+--------------------------+\n",
      "|     | Time     |   average_total_amount |   number_of_transactions |\n",
      "|-----+----------+------------------------+--------------------------|\n",
      "|   0 | 16:20:00 |              1039.29   |                        1 |\n",
      "|   1 | 16:18:00 |              1023.75   |                        1 |\n",
      "|   2 | 14:50:00 |               931.035  |                        1 |\n",
      "|   3 | 19:41:00 |               926.951  |                        1 |\n",
      "|   4 | 14:45:00 |               914.55   |                        1 |\n",
      "|   5 | 19:12:00 |               864.57   |                        1 |\n",
      "|   6 | 12:39:00 |               860.475  |                        1 |\n",
      "|   7 | 20:32:00 |               830.371  |                        1 |\n",
      "|   8 | 20:39:00 |               829.08   |                        1 |\n",
      "|   9 | 20:51:00 |               827.164  |                        2 |\n",
      "|  10 | 10:04:00 |               827.085  |                        1 |\n",
      "|  11 | 19:00:00 |               793.716  |                        1 |\n",
      "|  12 | 18:42:00 |               788.508  |                        1 |\n",
      "|  13 | 11:56:00 |               786.618  |                        1 |\n",
      "|  14 | 20:55:00 |               783.3    |                        1 |\n",
      "|  15 | 10:09:00 |               782.208  |                        1 |\n",
      "|  16 | 15:12:00 |               775.457  |                        2 |\n",
      "|  17 | 13:00:00 |               774.27   |                        3 |\n",
      "|  18 | 11:38:00 |               772.38   |                        1 |\n",
      "|  19 | 13:14:00 |               771.435  |                        1 |\n",
      "|  20 | 15:07:00 |               767.981  |                        2 |\n",
      "|  21 | 14:48:00 |               760.452  |                        1 |\n",
      "|  22 | 11:18:00 |               760.442  |                        1 |\n",
      "|  23 | 17:26:00 |               752.85   |                        2 |\n",
      "|  24 | 19:21:00 |               749.49   |                        1 |\n",
      "|  25 | 17:09:00 |               745.836  |                        1 |\n",
      "|  26 | 15:14:00 |               733.604  |                        1 |\n",
      "|  27 | 15:49:00 |               721.98   |                        1 |\n",
      "|  28 | 17:30:00 |               718.756  |                        1 |\n",
      "|  29 | 13:25:00 |               709.317  |                        1 |\n",
      "|  30 | 11:12:00 |               697.195  |                        2 |\n",
      "|  31 | 19:08:00 |               675.255  |                        2 |\n",
      "|  32 | 10:19:00 |               671.79   |                        1 |\n",
      "|  33 | 11:28:00 |               661.71   |                        2 |\n",
      "|  34 | 11:23:00 |               651.332  |                        3 |\n",
      "|  35 | 15:17:00 |               640.038  |                        1 |\n",
      "|  36 | 15:01:00 |               633.171  |                        3 |\n",
      "|  37 | 13:33:00 |               629.496  |                        1 |\n",
      "|  38 | 13:50:00 |               629.16   |                        1 |\n",
      "|  39 | 15:02:00 |               628.929  |                        1 |\n",
      "|  40 | 14:27:00 |               618.975  |                        1 |\n",
      "|  41 | 11:25:00 |               615.16   |                        3 |\n",
      "|  42 | 14:31:00 |               610.491  |                        1 |\n",
      "|  43 | 19:53:00 |               609.084  |                        2 |\n",
      "|  44 | 11:33:00 |               603.876  |                        1 |\n",
      "|  45 | 20:44:00 |               597.04   |                        1 |\n",
      "|  46 | 19:18:00 |               588.357  |                        1 |\n",
      "|  47 | 20:34:00 |               580.419  |                        1 |\n",
      "|  48 | 12:08:00 |               575.977  |                        1 |\n",
      "|  49 | 15:57:00 |               575.736  |                        1 |\n",
      "|  50 | 17:17:00 |               575.316  |                        1 |\n",
      "|  51 | 10:53:00 |               573.5    |                        2 |\n",
      "|  52 | 20:23:00 |               570.885  |                        2 |\n",
      "|  53 | 11:17:00 |               568.512  |                        1 |\n",
      "|  54 | 15:42:00 |               566.625  |                        4 |\n",
      "|  55 | 12:09:00 |               565.787  |                        2 |\n",
      "|  56 | 14:30:00 |               555.697  |                        2 |\n",
      "|  57 | 14:08:00 |               554.558  |                        2 |\n",
      "|  58 | 13:18:00 |               554.221  |                        2 |\n",
      "|  59 | 13:32:00 |               551.46   |                        2 |\n",
      "|  60 | 14:40:00 |               550.935  |                        1 |\n",
      "|  61 | 12:34:00 |               550.368  |                        1 |\n",
      "|  62 | 14:36:00 |               550.228  |                        3 |\n",
      "|  63 | 16:09:00 |               548.163  |                        1 |\n",
      "|  64 | 12:21:00 |               545.055  |                        1 |\n",
      "|  65 | 13:56:00 |               539.343  |                        1 |\n",
      "|  66 | 10:33:00 |               539.249  |                        4 |\n",
      "|  67 | 19:52:00 |               536.844  |                        1 |\n",
      "|  68 | 17:48:00 |               536.592  |                        1 |\n",
      "|  69 | 16:19:00 |               535.678  |                        4 |\n",
      "|  70 | 10:48:00 |               529.515  |                        1 |\n",
      "|  71 | 14:06:00 |               527.51   |                        1 |\n",
      "|  72 | 12:44:00 |               522.995  |                        2 |\n",
      "|  73 | 12:25:00 |               516.064  |                        2 |\n",
      "|  74 | 18:22:00 |               515.413  |                        3 |\n",
      "|  75 | 10:44:00 |               514.605  |                        1 |\n",
      "|  76 | 19:49:00 |               513.398  |                        2 |\n",
      "|  77 | 10:49:00 |               513.23   |                        1 |\n",
      "|  78 | 19:09:00 |               512.746  |                        3 |\n",
      "|  79 | 15:55:00 |               511.374  |                        3 |\n",
      "|  80 | 12:52:00 |               509.793  |                        3 |\n",
      "|  81 | 11:03:00 |               506.635  |                        1 |\n",
      "|  82 | 13:48:00 |               502.614  |                        5 |\n",
      "|  83 | 15:59:00 |               500.588  |                        2 |\n",
      "|  84 | 16:50:00 |               499.726  |                        1 |\n",
      "|  85 | 19:38:00 |               499.177  |                        3 |\n",
      "|  86 | 16:24:00 |               495.772  |                        3 |\n",
      "|  87 | 16:37:00 |               491.085  |                        1 |\n",
      "|  88 | 18:04:00 |               490.434  |                        2 |\n",
      "|  89 | 20:33:00 |               489.048  |                        1 |\n",
      "|  90 | 16:35:00 |               485.572  |                        1 |\n",
      "|  91 | 16:03:00 |               479.902  |                        1 |\n",
      "|  92 | 15:28:00 |               479.72   |                        3 |\n",
      "|  93 | 18:21:00 |               478.233  |                        1 |\n",
      "|  94 | 11:58:00 |               477.781  |                        2 |\n",
      "|  95 | 14:57:00 |               474.348  |                        1 |\n",
      "|  96 | 17:03:00 |               471.723  |                        2 |\n",
      "|  97 | 19:29:00 |               470.988  |                        1 |\n",
      "|  98 | 14:41:00 |               468.542  |                        2 |\n",
      "|  99 | 17:16:00 |               464.875  |                        5 |\n",
      "| 100 | 14:20:00 |               463.428  |                        1 |\n",
      "| 101 | 14:19:00 |               463.218  |                        3 |\n",
      "| 102 | 10:38:00 |               462.319  |                        3 |\n",
      "| 103 | 16:06:00 |               461.611  |                        2 |\n",
      "| 104 | 20:35:00 |               460.88   |                        3 |\n",
      "| 105 | 14:53:00 |               459.463  |                        3 |\n",
      "| 106 | 19:45:00 |               458.692  |                        1 |\n",
      "| 107 | 10:52:00 |               458.215  |                        2 |\n",
      "| 108 | 19:51:00 |               457.38   |                        1 |\n",
      "| 109 | 17:24:00 |               457.306  |                        3 |\n",
      "| 110 | 11:15:00 |               456.19   |                        3 |\n",
      "| 111 | 16:10:00 |               455.527  |                        2 |\n",
      "| 112 | 17:47:00 |               455.438  |                        2 |\n",
      "| 113 | 18:38:00 |               455.123  |                        1 |\n",
      "| 114 | 11:36:00 |               455.07   |                        4 |\n",
      "| 115 | 12:43:00 |               454.335  |                        4 |\n",
      "| 116 | 11:24:00 |               451.71   |                        1 |\n",
      "| 117 | 19:01:00 |               450.542  |                        4 |\n",
      "| 118 | 12:35:00 |               450.103  |                        1 |\n",
      "| 119 | 17:08:00 |               445.557  |                        2 |\n",
      "| 120 | 14:58:00 |               442.323  |                        1 |\n",
      "| 121 | 15:34:00 |               439.897  |                        1 |\n",
      "| 122 | 18:44:00 |               438.312  |                        2 |\n",
      "| 123 | 13:03:00 |               435.456  |                        1 |\n",
      "| 124 | 19:57:00 |               433.306  |                        4 |\n",
      "| 125 | 11:22:00 |               431.088  |                        3 |\n",
      "| 126 | 18:10:00 |               430.85   |                        3 |\n",
      "| 127 | 13:55:00 |               428.558  |                        2 |\n",
      "| 128 | 19:36:00 |               427.812  |                        1 |\n",
      "| 129 | 18:17:00 |               427.345  |                        2 |\n",
      "| 130 | 17:37:00 |               423.15   |                        1 |\n",
      "| 131 | 20:24:00 |               423      |                        4 |\n",
      "| 132 | 16:08:00 |               420.572  |                        2 |\n",
      "| 133 | 13:45:00 |               419.72   |                        3 |\n",
      "| 134 | 14:26:00 |               419.496  |                        2 |\n",
      "| 135 | 12:46:00 |               417.695  |                        4 |\n",
      "| 136 | 10:42:00 |               417.564  |                        1 |\n",
      "| 137 | 10:28:00 |               416.178  |                        1 |\n",
      "| 138 | 13:23:00 |               412.202  |                        3 |\n",
      "| 139 | 10:54:00 |               411.807  |                        4 |\n",
      "| 140 | 19:07:00 |               409.329  |                        3 |\n",
      "| 141 | 12:41:00 |               408.733  |                        1 |\n",
      "| 142 | 19:35:00 |               408.634  |                        2 |\n",
      "| 143 | 17:54:00 |               408.051  |                        2 |\n",
      "| 144 | 19:06:00 |               403.701  |                        4 |\n",
      "| 145 | 10:43:00 |               403.371  |                        4 |\n",
      "| 146 | 19:02:00 |               402.265  |                        1 |\n",
      "| 147 | 19:14:00 |               401.672  |                        2 |\n",
      "| 148 | 18:30:00 |               401.177  |                        3 |\n",
      "| 149 | 14:47:00 |               399.756  |                        1 |\n",
      "| 150 | 13:28:00 |               398.99   |                        2 |\n",
      "| 151 | 18:05:00 |               398.958  |                        1 |\n",
      "| 152 | 19:54:00 |               398.643  |                        2 |\n",
      "| 153 | 13:01:00 |               396.942  |                        3 |\n",
      "| 154 | 12:56:00 |               394.327  |                        1 |\n",
      "| 155 | 20:01:00 |               394.275  |                        1 |\n",
      "| 156 | 12:55:00 |               393.955  |                        2 |\n",
      "| 157 | 17:49:00 |               393.619  |                        2 |\n",
      "| 158 | 11:34:00 |               392.647  |                        1 |\n",
      "| 159 | 14:49:00 |               391.177  |                        2 |\n",
      "| 160 | 13:21:00 |               389.487  |                        3 |\n",
      "| 161 | 10:13:00 |               388.127  |                        2 |\n",
      "| 162 | 17:01:00 |               386.946  |                        2 |\n",
      "| 163 | 20:31:00 |               385.55   |                        3 |\n",
      "| 164 | 18:31:00 |               381.454  |                        2 |\n",
      "| 165 | 11:40:00 |               381.247  |                        5 |\n",
      "| 166 | 17:55:00 |               379.418  |                        2 |\n",
      "| 167 | 17:04:00 |               378.854  |                        3 |\n",
      "| 168 | 20:18:00 |               378.158  |                        2 |\n",
      "| 169 | 14:38:00 |               376.964  |                        3 |\n",
      "| 170 | 18:58:00 |               376.743  |                        3 |\n",
      "| 171 | 18:24:00 |               371.648  |                        2 |\n",
      "| 172 | 14:15:00 |               371.054  |                        2 |\n",
      "| 173 | 16:48:00 |               370.755  |                        2 |\n",
      "| 174 | 18:01:00 |               370.435  |                        2 |\n",
      "| 175 | 18:08:00 |               369.915  |                        3 |\n",
      "| 176 | 14:43:00 |               369.149  |                        3 |\n",
      "| 177 | 15:27:00 |               367.493  |                        3 |\n",
      "| 178 | 10:37:00 |               367.245  |                        3 |\n",
      "| 179 | 12:24:00 |               365.904  |                        1 |\n",
      "| 180 | 13:05:00 |               364.25   |                        4 |\n",
      "| 181 | 14:42:00 |               362.091  |                        7 |\n",
      "| 182 | 10:25:00 |               358.63   |                        4 |\n",
      "| 183 | 11:51:00 |               357.59   |                        5 |\n",
      "| 184 | 19:40:00 |               356.885  |                        3 |\n",
      "| 185 | 13:40:00 |               355.726  |                        3 |\n",
      "| 186 | 11:45:00 |               354.438  |                        2 |\n",
      "| 187 | 18:13:00 |               354.007  |                        1 |\n",
      "| 188 | 17:44:00 |               352.758  |                        2 |\n",
      "| 189 | 16:42:00 |               352.653  |                        2 |\n",
      "| 190 | 20:52:00 |               352.579  |                        1 |\n",
      "| 191 | 11:52:00 |               352.499  |                        3 |\n",
      "| 192 | 10:55:00 |               352.49   |                        4 |\n",
      "| 193 | 19:42:00 |               352.178  |                        4 |\n",
      "| 194 | 14:21:00 |               351.976  |                        2 |\n",
      "| 195 | 13:11:00 |               351.383  |                        2 |\n",
      "| 196 | 19:25:00 |               350.28   |                        2 |\n",
      "| 197 | 12:58:00 |               350.039  |                        3 |\n",
      "| 198 | 14:25:00 |               348.705  |                        1 |\n",
      "| 199 | 16:51:00 |               348.306  |                        1 |\n",
      "| 200 | 19:30:00 |               346.844  |                        5 |\n",
      "| 201 | 15:15:00 |               345.067  |                        2 |\n",
      "| 202 | 14:16:00 |               344.62   |                        3 |\n",
      "| 203 | 12:12:00 |               343.728  |                        2 |\n",
      "| 204 | 16:40:00 |               342.3    |                        2 |\n",
      "| 205 | 12:07:00 |               341.19   |                        3 |\n",
      "| 206 | 11:07:00 |               341.014  |                        2 |\n",
      "| 207 | 15:24:00 |               340.704  |                        2 |\n",
      "| 208 | 11:27:00 |               340.342  |                        2 |\n",
      "| 209 | 15:06:00 |               339.973  |                        3 |\n",
      "| 210 | 13:38:00 |               338.987  |                        2 |\n",
      "| 211 | 10:39:00 |               337.897  |                        3 |\n",
      "| 212 | 19:16:00 |               337.281  |                        2 |\n",
      "| 213 | 15:18:00 |               335.895  |                        1 |\n",
      "| 214 | 14:51:00 |               335.212  |                        2 |\n",
      "| 215 | 10:03:00 |               335.013  |                        1 |\n",
      "| 216 | 14:14:00 |               334.939  |                        2 |\n",
      "| 217 | 19:39:00 |               334.73   |                        5 |\n",
      "| 218 | 19:50:00 |               334.341  |                        1 |\n",
      "| 219 | 13:22:00 |               333.848  |                        4 |\n",
      "| 220 | 17:34:00 |               333.207  |                        1 |\n",
      "| 221 | 16:52:00 |               332.929  |                        2 |\n",
      "| 222 | 20:21:00 |               332.903  |                        3 |\n",
      "| 223 | 20:08:00 |               331.28   |                        2 |\n",
      "| 224 | 19:33:00 |               330.687  |                        2 |\n",
      "| 225 | 17:56:00 |               329.196  |                        1 |\n",
      "| 226 | 19:15:00 |               328.755  |                        1 |\n",
      "| 227 | 10:00:00 |               326.641  |                        3 |\n",
      "| 228 | 16:11:00 |               326.424  |                        1 |\n",
      "| 229 | 12:45:00 |               326.274  |                        4 |\n",
      "| 230 | 15:46:00 |               324.655  |                        2 |\n",
      "| 231 | 11:32:00 |               323.904  |                        4 |\n",
      "| 232 | 16:31:00 |               323.064  |                        1 |\n",
      "| 233 | 13:53:00 |               321.454  |                        3 |\n",
      "| 234 | 14:04:00 |               319.961  |                        4 |\n",
      "| 235 | 12:27:00 |               318.496  |                        2 |\n",
      "| 236 | 14:55:00 |               318.334  |                        2 |\n",
      "| 237 | 13:51:00 |               317.053  |                        2 |\n",
      "| 238 | 16:43:00 |               315.221  |                        2 |\n",
      "| 239 | 17:58:00 |               314.848  |                        2 |\n",
      "| 240 | 15:32:00 |               314.538  |                        1 |\n",
      "| 241 | 11:29:00 |               314.055  |                        1 |\n",
      "| 242 | 16:44:00 |               313.404  |                        2 |\n",
      "| 243 | 16:47:00 |               312.821  |                        2 |\n",
      "| 244 | 20:00:00 |               311.188  |                        1 |\n",
      "| 245 | 15:47:00 |               310.931  |                        2 |\n",
      "| 246 | 18:14:00 |               310.863  |                        4 |\n",
      "| 247 | 17:59:00 |               309.736  |                        3 |\n",
      "| 248 | 10:41:00 |               309.361  |                        1 |\n",
      "| 249 | 13:54:00 |               306.673  |                        2 |\n",
      "| 250 | 17:20:00 |               306.007  |                        2 |\n",
      "| 251 | 19:56:00 |               304.542  |                        1 |\n",
      "| 252 | 12:40:00 |               304.521  |                        4 |\n",
      "| 253 | 16:28:00 |               303.306  |                        4 |\n",
      "| 254 | 10:31:00 |               302.81   |                        3 |\n",
      "| 255 | 20:14:00 |               302.379  |                        2 |\n",
      "| 256 | 13:08:00 |               301.156  |                        2 |\n",
      "| 257 | 14:33:00 |               300.725  |                        2 |\n",
      "| 258 | 20:36:00 |               299.859  |                        2 |\n",
      "| 259 | 16:17:00 |               299.849  |                        1 |\n",
      "| 260 | 11:01:00 |               299.365  |                        1 |\n",
      "| 261 | 16:55:00 |               298.116  |                        1 |\n",
      "| 262 | 18:27:00 |               297.56   |                        3 |\n",
      "| 263 | 16:05:00 |               297.108  |                        1 |\n",
      "| 264 | 16:45:00 |               295.964  |                        2 |\n",
      "| 265 | 20:50:00 |               293.202  |                        1 |\n",
      "| 266 | 15:29:00 |               292.95   |                        4 |\n",
      "| 267 | 12:23:00 |               292.1    |                        2 |\n",
      "| 268 | 17:11:00 |               291.438  |                        1 |\n",
      "| 269 | 16:54:00 |               290.608  |                        2 |\n",
      "| 270 | 19:48:00 |               290.447  |                        7 |\n",
      "| 271 | 16:27:00 |               290.084  |                        1 |\n",
      "| 272 | 10:36:00 |               289.026  |                        4 |\n",
      "| 273 | 20:07:00 |               288.592  |                        2 |\n",
      "| 274 | 15:00:00 |               288.204  |                        1 |\n",
      "| 275 | 16:49:00 |               287.522  |                        2 |\n",
      "| 276 | 13:02:00 |               286.755  |                        2 |\n",
      "| 277 | 10:26:00 |               283.82   |                        2 |\n",
      "| 278 | 18:00:00 |               283.421  |                        2 |\n",
      "| 279 | 17:10:00 |               282.576  |                        1 |\n",
      "| 280 | 13:58:00 |               282.517  |                        5 |\n",
      "| 281 | 12:04:00 |               281.925  |                        2 |\n",
      "| 282 | 16:30:00 |               281.463  |                        2 |\n",
      "| 283 | 12:10:00 |               277.242  |                        2 |\n",
      "| 284 | 11:42:00 |               275.205  |                        2 |\n",
      "| 285 | 13:42:00 |               272.58   |                        1 |\n",
      "| 286 | 18:51:00 |               271.845  |                        2 |\n",
      "| 287 | 19:11:00 |               271.373  |                        2 |\n",
      "| 288 | 13:35:00 |               271.278  |                        1 |\n",
      "| 289 | 17:45:00 |               270.585  |                        1 |\n",
      "| 290 | 20:10:00 |               270.26   |                        1 |\n",
      "| 291 | 13:46:00 |               269.791  |                        3 |\n",
      "| 292 | 10:22:00 |               266.291  |                        2 |\n",
      "| 293 | 18:02:00 |               264.899  |                        2 |\n",
      "| 294 | 18:43:00 |               264.08   |                        4 |\n",
      "| 295 | 12:02:00 |               263.744  |                        4 |\n",
      "| 296 | 14:00:00 |               261.823  |                        2 |\n",
      "| 297 | 10:02:00 |               261.537  |                        3 |\n",
      "| 298 | 15:05:00 |               260.498  |                        3 |\n",
      "| 299 | 13:30:00 |               259.886  |                        3 |\n",
      "| 300 | 19:17:00 |               258.877  |                        4 |\n",
      "| 301 | 16:23:00 |               255.575  |                        4 |\n",
      "| 302 | 16:07:00 |               254.016  |                        1 |\n",
      "| 303 | 12:31:00 |               253.512  |                        1 |\n",
      "| 304 | 19:20:00 |               252.75   |                        5 |\n",
      "| 305 | 15:54:00 |               252.042  |                        1 |\n",
      "| 306 | 20:29:00 |               249.042  |                        4 |\n",
      "| 307 | 14:12:00 |               247.296  |                        2 |\n",
      "| 308 | 10:57:00 |               246.997  |                        2 |\n",
      "| 309 | 11:48:00 |               244.902  |                        2 |\n",
      "| 310 | 19:26:00 |               243.908  |                        3 |\n",
      "| 311 | 11:57:00 |               241.458  |                        1 |\n",
      "| 312 | 20:30:00 |               239.589  |                        1 |\n",
      "| 313 | 13:34:00 |               239.484  |                        3 |\n",
      "| 314 | 14:24:00 |               239.4    |                        1 |\n",
      "| 315 | 15:33:00 |               238.802  |                        2 |\n",
      "| 316 | 16:38:00 |               236.371  |                        2 |\n",
      "| 317 | 15:10:00 |               236.295  |                        4 |\n",
      "| 318 | 14:28:00 |               236.276  |                        2 |\n",
      "| 319 | 13:37:00 |               234.833  |                        2 |\n",
      "| 320 | 18:03:00 |               232.696  |                        4 |\n",
      "| 321 | 17:07:00 |               232.155  |                        1 |\n",
      "| 322 | 13:10:00 |               231.242  |                        1 |\n",
      "| 323 | 17:36:00 |               229.228  |                        5 |\n",
      "| 324 | 18:19:00 |               228.855  |                        4 |\n",
      "| 325 | 17:27:00 |               228.401  |                        2 |\n",
      "| 326 | 15:19:00 |               222.684  |                        2 |\n",
      "| 327 | 16:32:00 |               222.138  |                        1 |\n",
      "| 328 | 13:49:00 |               221.886  |                        1 |\n",
      "| 329 | 17:29:00 |               216.977  |                        2 |\n",
      "| 330 | 15:39:00 |               216.846  |                        1 |\n",
      "| 331 | 20:19:00 |               216.578  |                        2 |\n",
      "| 332 | 10:05:00 |               216.436  |                        1 |\n",
      "| 333 | 20:37:00 |               215.25   |                        3 |\n",
      "| 334 | 15:37:00 |               214.137  |                        1 |\n",
      "| 335 | 13:57:00 |               213.57   |                        2 |\n",
      "| 336 | 17:12:00 |               210.966  |                        1 |\n",
      "| 337 | 18:33:00 |               210.273  |                        2 |\n",
      "| 338 | 13:12:00 |               210      |                        2 |\n",
      "| 339 | 15:08:00 |               209.237  |                        3 |\n",
      "| 340 | 16:36:00 |               209.123  |                        2 |\n",
      "| 341 | 20:03:00 |               208.32   |                        3 |\n",
      "| 342 | 18:48:00 |               208.089  |                        1 |\n",
      "| 343 | 10:23:00 |               207.924  |                        4 |\n",
      "| 344 | 15:25:00 |               207.858  |                        1 |\n",
      "| 345 | 18:57:00 |               207.585  |                        1 |\n",
      "| 346 | 14:35:00 |               207.193  |                        3 |\n",
      "| 347 | 13:44:00 |               206.482  |                        2 |\n",
      "| 348 | 18:20:00 |               206.43   |                        1 |\n",
      "| 349 | 10:12:00 |               204.813  |                        2 |\n",
      "| 350 | 15:16:00 |               204.619  |                        2 |\n",
      "| 351 | 20:59:00 |               204.073  |                        2 |\n",
      "| 352 | 12:32:00 |               203.931  |                        1 |\n",
      "| 353 | 18:09:00 |               202.608  |                        2 |\n",
      "| 354 | 10:11:00 |               201.537  |                        5 |\n",
      "| 355 | 10:17:00 |               201.395  |                        4 |\n",
      "| 356 | 15:58:00 |               198.639  |                        1 |\n",
      "| 357 | 15:26:00 |               197.309  |                        3 |\n",
      "| 358 | 18:45:00 |               196.544  |                        4 |\n",
      "| 359 | 17:53:00 |               195.951  |                        1 |\n",
      "| 360 | 18:41:00 |               195.678  |                        1 |\n",
      "| 361 | 20:04:00 |               194.124  |                        1 |\n",
      "| 362 | 16:21:00 |               193.331  |                        2 |\n",
      "| 363 | 13:24:00 |               190.512  |                        4 |\n",
      "| 364 | 15:48:00 |               189.609  |                        3 |\n",
      "| 365 | 20:42:00 |               187.866  |                        1 |\n",
      "| 366 | 20:54:00 |               187.803  |                        2 |\n",
      "| 367 | 18:37:00 |               187.561  |                        4 |\n",
      "| 368 | 10:18:00 |               185.958  |                        3 |\n",
      "| 369 | 15:52:00 |               185.635  |                        2 |\n",
      "| 370 | 12:17:00 |               184.107  |                        1 |\n",
      "| 371 | 11:43:00 |               183.887  |                        2 |\n",
      "| 372 | 12:30:00 |               182.91   |                        1 |\n",
      "| 373 | 13:06:00 |               181.881  |                        1 |\n",
      "| 374 | 10:40:00 |               180.274  |                        2 |\n",
      "| 375 | 19:28:00 |               179.578  |                        3 |\n",
      "| 376 | 10:29:00 |               178.584  |                        2 |\n",
      "| 377 | 19:31:00 |               177.408  |                        1 |\n",
      "| 378 | 15:31:00 |               177.111  |                        4 |\n",
      "| 379 | 14:05:00 |               175.035  |                        1 |\n",
      "| 380 | 19:58:00 |               174.3    |                        1 |\n",
      "| 381 | 13:27:00 |               172.746  |                        1 |\n",
      "| 382 | 18:06:00 |               170.51   |                        3 |\n",
      "| 383 | 13:26:00 |               169.312  |                        1 |\n",
      "| 384 | 18:59:00 |               168.326  |                        2 |\n",
      "| 385 | 16:04:00 |               165.648  |                        1 |\n",
      "| 386 | 20:26:00 |               165.128  |                        2 |\n",
      "| 387 | 11:00:00 |               165.081  |                        2 |\n",
      "| 388 | 14:03:00 |               164.871  |                        1 |\n",
      "| 389 | 10:16:00 |               164.698  |                        2 |\n",
      "| 390 | 20:46:00 |               164.33   |                        2 |\n",
      "| 391 | 15:21:00 |               163.611  |                        1 |\n",
      "| 392 | 11:46:00 |               162.755  |                        2 |\n",
      "| 393 | 12:28:00 |               161.959  |                        3 |\n",
      "| 394 | 17:38:00 |               161.516  |                        6 |\n",
      "| 395 | 19:22:00 |               160.86   |                        1 |\n",
      "| 396 | 11:26:00 |               160.332  |                        4 |\n",
      "| 397 | 19:46:00 |               159.075  |                        2 |\n",
      "| 398 | 12:20:00 |               158.749  |                        3 |\n",
      "| 399 | 15:30:00 |               155.211  |                        2 |\n",
      "| 400 | 16:59:00 |               155.19   |                        1 |\n",
      "| 401 | 11:44:00 |               153.195  |                        2 |\n",
      "| 402 | 13:29:00 |               151.804  |                        2 |\n",
      "| 403 | 18:35:00 |               151.274  |                        2 |\n",
      "| 404 | 20:57:00 |               148.995  |                        1 |\n",
      "| 405 | 17:22:00 |               148.974  |                        1 |\n",
      "| 406 | 19:43:00 |               148.932  |                        2 |\n",
      "| 407 | 20:48:00 |               147.84   |                        2 |\n",
      "| 408 | 16:34:00 |               147.84   |                        2 |\n",
      "| 409 | 14:22:00 |               147.672  |                        1 |\n",
      "| 410 | 18:36:00 |               146.328  |                        1 |\n",
      "| 411 | 12:15:00 |               145.971  |                        1 |\n",
      "| 412 | 18:53:00 |               145.745  |                        2 |\n",
      "| 413 | 19:05:00 |               145.593  |                        1 |\n",
      "| 414 | 10:34:00 |               143.987  |                        1 |\n",
      "| 415 | 11:06:00 |               141.75   |                        1 |\n",
      "| 416 | 19:44:00 |               139.808  |                        5 |\n",
      "| 417 | 11:59:00 |               136.143  |                        1 |\n",
      "| 418 | 12:48:00 |               135.576  |                        1 |\n",
      "| 419 | 17:52:00 |               132.562  |                        1 |\n",
      "| 420 | 10:50:00 |               131.434  |                        2 |\n",
      "| 421 | 17:15:00 |               130.543  |                        3 |\n",
      "| 422 | 17:43:00 |               130.357  |                        2 |\n",
      "| 423 | 18:23:00 |               127.654  |                        2 |\n",
      "| 424 | 12:01:00 |               125.517  |                        1 |\n",
      "| 425 | 15:04:00 |               125.386  |                        2 |\n",
      "| 426 | 13:07:00 |               125.38   |                        2 |\n",
      "| 427 | 13:41:00 |               125.029  |                        2 |\n",
      "| 428 | 19:24:00 |               121.783  |                        3 |\n",
      "| 429 | 14:44:00 |               121.128  |                        1 |\n",
      "| 430 | 12:50:00 |               120.477  |                        3 |\n",
      "| 431 | 12:29:00 |               120.424  |                        2 |\n",
      "| 432 | 17:13:00 |               120.162  |                        1 |\n",
      "| 433 | 15:53:00 |               119.522  |                        3 |\n",
      "| 434 | 12:51:00 |               119.28   |                        2 |\n",
      "| 435 | 15:44:00 |               117.999  |                        2 |\n",
      "| 436 | 14:29:00 |               114.481  |                        2 |\n",
      "| 437 | 11:39:00 |               114.082  |                        2 |\n",
      "| 438 | 11:30:00 |               109.205  |                        2 |\n",
      "| 439 | 12:42:00 |               107.882  |                        2 |\n",
      "| 440 | 12:36:00 |               107.32   |                        2 |\n",
      "| 441 | 20:38:00 |               107.121  |                        2 |\n",
      "| 442 | 18:56:00 |               106.995  |                        1 |\n",
      "| 443 | 12:37:00 |               106.785  |                        2 |\n",
      "| 444 | 15:11:00 |               106.501  |                        1 |\n",
      "| 445 | 11:55:00 |               105.714  |                        2 |\n",
      "| 446 | 10:58:00 |               103.131  |                        1 |\n",
      "| 447 | 10:01:00 |               102.974  |                        2 |\n",
      "| 448 | 10:10:00 |               100.128  |                        1 |\n",
      "| 449 | 15:36:00 |                99.099  |                        3 |\n",
      "| 450 | 20:05:00 |                94.2375 |                        1 |\n",
      "| 451 | 11:20:00 |                94.1745 |                        1 |\n",
      "| 452 | 11:16:00 |                93.744  |                        1 |\n",
      "| 453 | 19:55:00 |                93.6653 |                        2 |\n",
      "| 454 | 10:21:00 |                93.0405 |                        1 |\n",
      "| 455 | 14:13:00 |                91.4025 |                        3 |\n",
      "| 456 | 16:53:00 |                90.867  |                        1 |\n",
      "| 457 | 15:56:00 |                90.825  |                        1 |\n",
      "| 458 | 11:19:00 |                90.699  |                        1 |\n",
      "| 459 | 16:46:00 |                89.4128 |                        2 |\n",
      "| 460 | 15:20:00 |                89.0715 |                        1 |\n",
      "| 461 | 13:47:00 |                87.234  |                        1 |\n",
      "| 462 | 15:40:00 |                86.625  |                        1 |\n",
      "| 463 | 13:59:00 |                86.247  |                        1 |\n",
      "| 464 | 17:35:00 |                84.7455 |                        1 |\n",
      "| 465 | 16:16:00 |                82.887  |                        1 |\n",
      "| 466 | 18:55:00 |                81.396  |                        1 |\n",
      "| 467 | 18:18:00 |                80.367  |                        1 |\n",
      "| 468 | 12:14:00 |                80.1517 |                        2 |\n",
      "| 469 | 10:30:00 |                79.674  |                        1 |\n",
      "| 470 | 13:19:00 |                79.611  |                        1 |\n",
      "| 471 | 15:51:00 |                79.0125 |                        2 |\n",
      "| 472 | 18:50:00 |                78.9548 |                        2 |\n",
      "| 473 | 16:58:00 |                78.7185 |                        1 |\n",
      "| 474 | 11:05:00 |                77.805  |                        1 |\n",
      "| 475 | 11:21:00 |                76.545  |                        2 |\n",
      "| 476 | 20:40:00 |                74.76   |                        1 |\n",
      "| 477 | 10:08:00 |                74.7075 |                        1 |\n",
      "| 478 | 12:38:00 |                74.3085 |                        2 |\n",
      "| 479 | 20:43:00 |                73.3162 |                        2 |\n",
      "| 480 | 20:15:00 |                71.568  |                        1 |\n",
      "| 481 | 15:43:00 |                70.287  |                        1 |\n",
      "| 482 | 12:47:00 |                70.0035 |                        2 |\n",
      "| 483 | 10:46:00 |                69.6675 |                        1 |\n",
      "| 484 | 10:06:00 |                68.2395 |                        1 |\n",
      "| 485 | 20:13:00 |                64.449  |                        2 |\n",
      "| 486 | 18:15:00 |                61.8345 |                        2 |\n",
      "| 487 | 18:07:00 |                60.816  |                        1 |\n",
      "| 488 | 15:45:00 |                59.325  |                        1 |\n",
      "| 489 | 17:46:00 |                58.2225 |                        1 |\n",
      "| 490 | 11:10:00 |                57.876  |                        1 |\n",
      "| 491 | 16:26:00 |                57.078  |                        1 |\n",
      "| 492 | 20:06:00 |                48.7305 |                        1 |\n",
      "| 493 | 12:16:00 |                48.51   |                        1 |\n",
      "| 494 | 12:22:00 |                45.108  |                        1 |\n",
      "| 495 | 16:57:00 |                44.5935 |                        1 |\n",
      "| 496 | 11:02:00 |                41.076  |                        1 |\n",
      "| 497 | 16:33:00 |                40.341  |                        1 |\n",
      "| 498 | 11:49:00 |                33.936  |                        1 |\n",
      "| 499 | 13:52:00 |                33.3585 |                        1 |\n",
      "| 500 | 19:47:00 |                32.277  |                        1 |\n",
      "| 501 | 15:09:00 |                26.25   |                        1 |\n",
      "| 502 | 20:47:00 |                24.108  |                        1 |\n",
      "| 503 | 15:23:00 |                16.275  |                        1 |\n",
      "| 504 | 11:09:00 |                16.107  |                        1 |\n",
      "| 505 | 14:11:00 |                13.419  |                        1 |\n",
      "+-----+----------+------------------------+--------------------------+\n"
     ]
    }
   ],
   "source": [
    "query = pysqldf(\"\"\"\n",
    "SELECT DISTINCT Time, AVG(Total) as average_total_amount, COUNT(*) as number_of_transactions\n",
    "FROM df\n",
    "GROUP BY Time\n",
    "ORDER BY average_total_amount DESC\n",
    "\"\"\")\n",
    "\n",
    "query['Time'] = pd.to_datetime(query['Time'], unit='ns').dt.time\n",
    "\n",
    "print(tabulate(query, headers='keys', tablefmt='psql'))"
   ]
  },
  {
   "cell_type": "markdown",
   "metadata": {},
   "source": [
    "7. What is the distribution of payment methods across different branches?"
   ]
  },
  {
   "cell_type": "code",
   "execution_count": 312,
   "metadata": {},
   "outputs": [
    {
     "name": "stdout",
     "output_type": "stream",
     "text": [
      "+----+----------+------------------+---------+\n",
      "|    | branch   | payment_method   |   count |\n",
      "|----+----------+------------------+---------|\n",
      "|  0 | A        | Cash             |     110 |\n",
      "|  1 | A        | Credit card      |     104 |\n",
      "|  2 | A        | Ewallet          |     126 |\n",
      "|  3 | B        | Cash             |     110 |\n",
      "|  4 | B        | Credit card      |     109 |\n",
      "|  5 | B        | Ewallet          |     113 |\n",
      "|  6 | C        | Cash             |     124 |\n",
      "|  7 | C        | Credit card      |      98 |\n",
      "|  8 | C        | Ewallet          |     106 |\n",
      "+----+----------+------------------+---------+\n"
     ]
    }
   ],
   "source": [
    "query = pysqldf(\"\"\"\n",
    "    SELECT BRANCH as branch ,  payment as payment_method,count(payment) as count\n",
    "    FROM df\n",
    "    GROUP BY BRANCH,payment\n",
    "\"\"\")\n",
    "\n",
    "print(tabulate(query, headers='keys', tablefmt='psql'))\n",
    "\n"
   ]
  },
  {
   "cell_type": "markdown",
   "metadata": {},
   "source": [
    "8. What is the average unit price by each customer type?\n",
    "\n"
   ]
  },
  {
   "cell_type": "code",
   "execution_count": 313,
   "metadata": {},
   "outputs": [
    {
     "name": "stdout",
     "output_type": "stream",
     "text": [
      "  Customer_type  Unit_price\n",
      "0        Member   56.206986\n",
      "1        Normal   55.135130\n"
     ]
    }
   ],
   "source": [
    "q = pysqldf(\"\"\" \n",
    "        SELECT customer_type,AVG(Unit_price) as Unit_price from df\n",
    "        GROUP BY customer_type\n",
    " \"\"\")\n",
    "print(q)"
   ]
  },
  {
   "cell_type": "markdown",
   "metadata": {},
   "source": [
    "9. What is the distribution of product lines across different cities?\n",
    "\n"
   ]
  },
  {
   "cell_type": "code",
   "execution_count": 314,
   "metadata": {},
   "outputs": [
    {
     "name": "stdout",
     "output_type": "stream",
     "text": [
      "              Product_line       City  count\n",
      "0   Electronic accessories   Mandalay     55\n",
      "1      Fashion accessories   Mandalay     62\n",
      "2       Food and beverages   Mandalay     50\n",
      "3        Health and beauty   Mandalay     53\n",
      "4       Home and lifestyle   Mandalay     50\n",
      "5        Sports and travel   Mandalay     62\n",
      "6   Electronic accessories  Naypyitaw     55\n",
      "7      Fashion accessories  Naypyitaw     65\n",
      "8       Food and beverages  Naypyitaw     66\n",
      "9        Health and beauty  Naypyitaw     52\n",
      "10      Home and lifestyle  Naypyitaw     45\n",
      "11       Sports and travel  Naypyitaw     45\n",
      "12  Electronic accessories     Yangon     60\n",
      "13     Fashion accessories     Yangon     51\n",
      "14      Food and beverages     Yangon     58\n",
      "15       Health and beauty     Yangon     47\n",
      "16      Home and lifestyle     Yangon     65\n",
      "17       Sports and travel     Yangon     59\n"
     ]
    }
   ],
   "source": [
    "q = pysqldf(\"\"\" \n",
    "         SELECT product_line,city,COUNT(product_line) as count from df\n",
    "            GROUP BY city,product_line     \n",
    "\"\"\")\n",
    "print(q)"
   ]
  },
  {
   "cell_type": "markdown",
   "metadata": {},
   "source": [
    "10. What is the distribution of product lines across different branches?\n",
    "\n"
   ]
  },
  {
   "cell_type": "code",
   "execution_count": 315,
   "metadata": {},
   "outputs": [
    {
     "name": "stdout",
     "output_type": "stream",
     "text": [
      "              Product_line Branch  count\n",
      "0   Electronic accessories      A     60\n",
      "1      Fashion accessories      A     51\n",
      "2       Food and beverages      A     58\n",
      "3        Health and beauty      A     47\n",
      "4       Home and lifestyle      A     65\n",
      "5        Sports and travel      A     59\n",
      "6   Electronic accessories      B     55\n",
      "7      Fashion accessories      B     62\n",
      "8       Food and beverages      B     50\n",
      "9        Health and beauty      B     53\n",
      "10      Home and lifestyle      B     50\n",
      "11       Sports and travel      B     62\n",
      "12  Electronic accessories      C     55\n",
      "13     Fashion accessories      C     65\n",
      "14      Food and beverages      C     66\n",
      "15       Health and beauty      C     52\n",
      "16      Home and lifestyle      C     45\n",
      "17       Sports and travel      C     45\n"
     ]
    }
   ],
   "source": [
    "q = pysqldf(\"\"\" \n",
    "            SELECT product_line,BRANCH,COUNT(product_line) as count from df \n",
    "            GROUP BY BRANCH,product_line\n",
    "             \"\"\")\n",
    "print(q)"
   ]
  }
 ],
 "metadata": {
  "kernelspec": {
   "display_name": "Python 3",
   "language": "python",
   "name": "python3"
  },
  "language_info": {
   "codemirror_mode": {
    "name": "ipython",
    "version": 3
   },
   "file_extension": ".py",
   "mimetype": "text/x-python",
   "name": "python",
   "nbconvert_exporter": "python",
   "pygments_lexer": "ipython3",
   "version": "3.11.8"
  }
 },
 "nbformat": 4,
 "nbformat_minor": 2
}
